{
  "nbformat": 4,
  "nbformat_minor": 0,
  "metadata": {
    "colab": {
      "name": "Practice_Week4_Day1.ipynb",
      "provenance": [],
      "collapsed_sections": []
    },
    "kernelspec": {
      "name": "python3",
      "display_name": "Python 3"
    },
    "language_info": {
      "name": "python"
    }
  },
  "cells": [
    {
      "cell_type": "markdown",
      "source": [
        "## ***Implementation of max heap***"
      ],
      "metadata": {
        "id": "4E4rCj7wst-a"
      }
    },
    {
      "cell_type": "code",
      "execution_count": null,
      "metadata": {
        "colab": {
          "base_uri": "https://localhost:8080/"
        },
        "id": "3Fim4J6Ssi6Z",
        "outputId": "00a43748-a477-4ab6-ed4a-cbeadee6b466"
      },
      "outputs": [
        {
          "output_type": "stream",
          "name": "stdout",
          "text": [
            "The maxHeap is \n",
            " PARENT : 84 LEFT CHILD : 22 RIGHT CHILD : 19\n",
            " PARENT : 22 LEFT CHILD : 17 RIGHT CHILD : 10\n",
            " PARENT : 19 LEFT CHILD : 5 RIGHT CHILD : 6\n",
            " PARENT : 17 LEFT CHILD : 3 RIGHT CHILD : 9\n",
            "The maxHeap is \n",
            " PARENT : 22 LEFT CHILD : 17 RIGHT CHILD : 19\n",
            " PARENT : 17 LEFT CHILD : 9 RIGHT CHILD : 10\n",
            " PARENT : 19 LEFT CHILD : 5 RIGHT CHILD : 6\n",
            " PARENT : 9 LEFT CHILD : 3 RIGHT CHILD : 0\n",
            "The maxHeap is \n",
            " PARENT : 19 LEFT CHILD : 17 RIGHT CHILD : 6\n",
            " PARENT : 17 LEFT CHILD : 9 RIGHT CHILD : 10\n",
            " PARENT : 6 LEFT CHILD : 5 RIGHT CHILD : 3\n"
          ]
        }
      ],
      "source": [
        "import sys\n",
        "\n",
        "class MaxHeap:\n",
        "  def __init__(self, maxSize):\n",
        "    self.maxSize = maxSize # set the maximum size of the heap array\n",
        "    self.size = 0 # current size of a heap\n",
        "    self.heap = [0]*(maxSize+1) # initialize all elements with 0 in the heap\n",
        "    self.heap[0] = sys.maxsize # set the first element as maximum to comparing it with the parent node\n",
        "\n",
        "  # get the position of the left child\n",
        "  def leftChild(self, pos):\n",
        "    return 2*pos\n",
        "  \n",
        "  # get the position of the right child\n",
        "  def rightChild(self, pos):\n",
        "    return 2*pos + 1\n",
        "  \n",
        "  # get the position of the parent\n",
        "  def parent(self, pos):\n",
        "    return pos//2\n",
        "\n",
        "  # checking whether the current node is leaf or not\n",
        "  def isLeaf(self, pos):\n",
        "    if(pos > (self.size//2) and (pos <= self.size)):\n",
        "      return True\n",
        "    return False\n",
        "\n",
        "  # swap two nodes in the heap\n",
        "  def swap(self, fpos, spos):\n",
        "    self.heap[fpos], self.heap[spos] = self.heap[spos], self.heap[fpos]\n",
        "\n",
        "  # Comparing nodes value and swaping them accordingly\n",
        "  def maxHeapify(self, pos):\n",
        "    if(not self.isLeaf(pos)):\n",
        "      if(self.heap[pos] < self.heap[self.rightChild(pos)] or self.heap[pos] < self.heap[self.leftChild(pos)]):\n",
        "        if(self.heap[self.leftChild(pos)] > self.heap[self.rightChild(pos)]):\n",
        "          self.swap(pos, self.leftChild(pos))\n",
        "          self.maxHeapify(self.leftChild(pos))\n",
        "        else:\n",
        "          self.swap(pos, self.rightChild(pos))\n",
        "          self.maxHeapify(self.rightChild(pos))\n",
        "\n",
        "  # insert new elements in the heap\n",
        "  def insert(self, data):\n",
        "    if(self.size >= self.maxSize):\n",
        "      return False\n",
        "    self.size += 1\n",
        "    self.heap[self.size] = data\n",
        "    current = self.size\n",
        "\n",
        "    while(self.heap[current] > self.heap[self.parent(current)]):\n",
        "      self.swap(current, self.parent(current))\n",
        "      current = self.parent(current)\n",
        "\n",
        "  # call max heapify function for all the nodes except leaf node\n",
        "  def maxHeap(self):\n",
        "    for pos in range(self.size // 2, 0, -1):\n",
        "      self.maxHeapify(pos)\n",
        "\n",
        "  # print the structure of the heap tree\n",
        "  def Print(self):\n",
        "        for i in range(1, (self.size//2)+1):\n",
        "            print(\" PARENT : \"+ str(self.heap[i])+\" LEFT CHILD : \"+\n",
        "                                str(self.heap[2 * i])+\" RIGHT CHILD : \"+\n",
        "                                str(self.heap[2 * i + 1]))\n",
        "\n",
        "  # pop the root of the heap tree\n",
        "  def pop(self):\n",
        "    if(self.size < 1):\n",
        "      print(\"The tree is empty\")\n",
        "      return False\n",
        "    else:\n",
        "      self.heap[1] = self.heap[self.size]\n",
        "      self.heap[self.size] = 0\n",
        "      self.size -= 1\n",
        "      self.maxHeapify(1)\n",
        "\n",
        "print('The maxHeap is ')\n",
        "maxHeap = MaxHeap(15)\n",
        "maxHeap.insert(5)\n",
        "maxHeap.insert(3)\n",
        "maxHeap.insert(17)\n",
        "maxHeap.insert(10)\n",
        "maxHeap.insert(84)\n",
        "maxHeap.insert(19)\n",
        "maxHeap.insert(6)\n",
        "maxHeap.insert(22)\n",
        "maxHeap.insert(9)\n",
        "maxHeap.maxHeap()\n",
        "maxHeap.Print()\n",
        "\n",
        "print(\"The maxHeap is \")\n",
        "maxHeap.pop()\n",
        "maxHeap.Print()\n",
        "\n",
        "print(\"The maxHeap is \")\n",
        "maxHeap.pop()\n",
        "maxHeap.Print()"
      ]
    },
    {
      "cell_type": "markdown",
      "source": [
        "## ***Priority queue using linked list***"
      ],
      "metadata": {
        "id": "OqbC_EvV1tFd"
      }
    },
    {
      "cell_type": "code",
      "source": [
        "class Node:\n",
        "  def __init__(self, data, priority):\n",
        "    self.data = data\n",
        "    self.priority = priority\n",
        "    self.next = None\n",
        "\n",
        "class PriorityQueue:\n",
        "  def __init__(self):\n",
        "    self.head = None\n",
        "\n",
        "  # checking whether the queue is empty or not\n",
        "  def isEmpty(self): \n",
        "    return (not self.head)\n",
        "\n",
        "  # insert item in the queue\n",
        "  def push(self, data, priority):\n",
        "    newNode = Node(data, priority)\n",
        "    if(self.head):\n",
        "      if(self.head.priority < priority): # if the priority of the new node is greater than the head node \n",
        "        newNode.next = self.head\n",
        "        self.head = newNode\n",
        "      else:\n",
        "        temp = self.head\n",
        "        flag = 0\n",
        "        while(temp.next): # traverse the queue and find the position the suitable position for it \n",
        "          if(temp.next.priority < priority):\n",
        "            newNode.next = temp.next\n",
        "            temp.next = newNode\n",
        "            flag = 1\n",
        "            break\n",
        "          temp = temp.next\n",
        "        if(flag == 0):\n",
        "          temp.next = newNode\n",
        "    else:\n",
        "      self.head = newNode\n",
        "\n",
        "  # pop the highest priority item from the queue\n",
        "  def pop(self):\n",
        "    if(not self.isEmpty()): # checking whether the queue is empty or not\n",
        "      temp = self.head\n",
        "      if(temp.next):\n",
        "        self.head = temp.next \n",
        "      else:\n",
        "        self.head = None\n",
        "      return temp # return the top node\n",
        "\n",
        "  # print all elements of queue\n",
        "  def traverse(self):\n",
        "    temp = self.head\n",
        "    print(\"The priority queue is: \", end = \" \")\n",
        "    while(temp):\n",
        "      print(temp.data, end = \" \")\n",
        "      temp = temp.next\n",
        "    print()\n",
        "\n",
        "obj = PriorityQueue()\n",
        "obj.push(23, 2)\n",
        "obj.push(15, 2)\n",
        "obj.push(50, 1)\n",
        "obj.push(40, 3)\n",
        "obj.push(60, 4)\n",
        "obj.push(67, 1)\n",
        "obj.push(80, 2)\n",
        "obj.traverse()\n",
        "\n",
        "obj.pop()\n",
        "obj.pop()\n",
        "obj.traverse()\n",
        "\n",
        "obj.push(100, 4)\n",
        "obj.push(110, 3)\n",
        "obj.traverse()"
      ],
      "metadata": {
        "colab": {
          "base_uri": "https://localhost:8080/"
        },
        "id": "Q2Fo-_Upzh9Y",
        "outputId": "4f94335f-84f2-4751-ff05-8db063d3a97f"
      },
      "execution_count": null,
      "outputs": [
        {
          "output_type": "stream",
          "name": "stdout",
          "text": [
            "The priority queue is:  60 40 23 15 80 50 67 \n",
            "The priority queue is:  23 15 80 50 67 \n",
            "The priority queue is:  100 110 23 15 80 50 67 \n"
          ]
        }
      ]
    },
    {
      "cell_type": "markdown",
      "source": [
        "## ***Hashing example***"
      ],
      "metadata": {
        "id": "-C8nqblxIyk5"
      }
    },
    {
      "cell_type": "markdown",
      "source": [
        "### Write a function to determine whether a string contains repeated characters."
      ],
      "metadata": {
        "id": "eNi3YRw_JDrE"
      }
    },
    {
      "cell_type": "code",
      "source": [
        "def checkString(s):\n",
        "  d = {}\n",
        "  flag = 0\n",
        "  for ch in s:  # counting the frequency of each character except space\n",
        "    if(ch != \" \"):\n",
        "      try:\n",
        "        if(d[ch]): # if the character is already present in the dictionary means it is repeated.\n",
        "          print(\"String contain repeated characters:\", ch)\n",
        "          flag = 1\n",
        "          break\n",
        "      except:\n",
        "        d[ch] = 1\n",
        "  if(flag == 0):\n",
        "    print(\"String not contain repeated characters\")\n",
        "s = input()\n",
        "checkString(s)"
      ],
      "metadata": {
        "colab": {
          "base_uri": "https://localhost:8080/"
        },
        "id": "rhp3A2RtIyMu",
        "outputId": "da3070ab-b8d9-402f-ed5e-f447be2256f2"
      },
      "execution_count": null,
      "outputs": [
        {
          "output_type": "stream",
          "name": "stdout",
          "text": [
            "example\n",
            "String contain repeated characters: e\n"
          ]
        }
      ]
    },
    {
      "cell_type": "markdown",
      "source": [
        "### Given a string of any length, find the most used character in the string."
      ],
      "metadata": {
        "id": "lbKCHu_RJO2D"
      }
    },
    {
      "cell_type": "code",
      "source": [
        "def getMostUsedCharacter(s):\n",
        "  d = {}\n",
        "  for ch in s: # counting the frequency of each character except space\n",
        "    if(ch != \" \"):\n",
        "      try:\n",
        "        d[ch] += 1\n",
        "      except:\n",
        "        d[ch] = 1\n",
        "  d = dict(sorted(d.items(), key = lambda x: x[1], reverse = True)) # sort the dictionary by value\n",
        "  return list(d.items())[0] # return the most frequent character with its frequency\n",
        "\n",
        "s = input()\n",
        "t = getMostUsedCharacter(s)\n",
        "print(\"The mostly used character in the string is {} with frequency {}\".format(t[0], t[1]))"
      ],
      "metadata": {
        "colab": {
          "base_uri": "https://localhost:8080/"
        },
        "id": "6mu5cktwK4O-",
        "outputId": "064f5c36-be74-448c-d215-76389f516bd2"
      },
      "execution_count": null,
      "outputs": [
        {
          "output_type": "stream",
          "name": "stdout",
          "text": [
            "this is drumil shah\n",
            "The mostly used character in the string is h with frequency 3\n"
          ]
        }
      ]
    }
  ]
}