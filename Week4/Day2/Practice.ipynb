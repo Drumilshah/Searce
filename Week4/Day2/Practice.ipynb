{
  "nbformat": 4,
  "nbformat_minor": 0,
  "metadata": {
    "colab": {
      "name": "Practice_Week4_day02.ipynb",
      "provenance": [],
      "collapsed_sections": []
    },
    "kernelspec": {
      "name": "python3",
      "display_name": "Python 3"
    },
    "language_info": {
      "name": "python"
    }
  },
  "cells": [
    {
      "cell_type": "markdown",
      "source": [
        "# **Sorting algorithms**"
      ],
      "metadata": {
        "id": "Y3vI5pCa1kzN"
      }
    },
    {
      "cell_type": "markdown",
      "source": [
        "## ***Bubble sort***"
      ],
      "metadata": {
        "id": "qYXTv4-52gnw"
      }
    },
    {
      "cell_type": "code",
      "execution_count": null,
      "metadata": {
        "colab": {
          "base_uri": "https://localhost:8080/"
        },
        "id": "qSyPHG7T1kK4",
        "outputId": "1acc8b9b-798f-445c-c335-ad9cafd260ca"
      },
      "outputs": [
        {
          "output_type": "stream",
          "name": "stdout",
          "text": [
            "Enter numbers: 45 34 23 12 67 45 33 89 40 50 30 29 22 15 22\n",
            "Sorted array: [12, 15, 22, 22, 23, 29, 30, 33, 34, 40, 45, 45, 50, 67, 89]\n"
          ]
        }
      ],
      "source": [
        "l = list(map(int, input(\"Enter numbers: \").split()))\n",
        "n = len(l)\n",
        "for i in range(n):\n",
        "  for j in range(n-i-1):\n",
        "    if(l[j] > l[j+1]): # compare 2 consecutive elements\n",
        "      l[j],l[j+1] = l[j+1], l[j] # swap them\n",
        "print(\"Sorted array:\", l)"
      ]
    },
    {
      "cell_type": "markdown",
      "source": [
        "## ***Selection sort***"
      ],
      "metadata": {
        "id": "159L6yHv6Hvg"
      }
    },
    {
      "cell_type": "code",
      "source": [
        "import sys\n",
        "l = list(map(int, input(\"Enter numbers: \").split()))\n",
        "n = len(l)\n",
        "\n",
        "for i in range(n):\n",
        "  minInd = -1\n",
        "  minNum = sys.maxsize\n",
        "  for j in range(i,n):\n",
        "    if(minNum > l[j]):\n",
        "      minNum = l[j] # find the minimum element\n",
        "      minInd = j # find the index of minimum element\n",
        "  l[i],l[minInd] = l[minInd],l[i] # swap minimum and the current element\n",
        "print(\"Sorted array: \", l)"
      ],
      "metadata": {
        "colab": {
          "base_uri": "https://localhost:8080/"
        },
        "id": "lM-7zVKV7Tbj",
        "outputId": "069f3c1c-0252-4ee8-e105-fc819181643f"
      },
      "execution_count": null,
      "outputs": [
        {
          "output_type": "stream",
          "name": "stdout",
          "text": [
            "Enter numbers: 45 34 23 12 67 45 33 89 40 50 30 29 22 15 22\n",
            "Sorted array:  [12, 15, 22, 22, 23, 29, 30, 33, 34, 40, 45, 45, 50, 67, 89]\n"
          ]
        }
      ]
    },
    {
      "cell_type": "markdown",
      "source": [
        "## ***Insertion sort***"
      ],
      "metadata": {
        "id": "l1ddxBr1-JX6"
      }
    },
    {
      "cell_type": "code",
      "source": [
        "l = list(map(int, input(\"Enter numbers: \").split()))\n",
        "n = len(l)\n",
        "\n",
        "for i in range(1, n):\n",
        "  key = l[i] # consider key\n",
        "  j = i-1\n",
        "  while(j >= 0 and key < l[j]): # compare key value with all the previous value\n",
        "    l[j+1] = l[j] # shift value to right\n",
        "    j -= 1\n",
        "  l[j+1] = key\n",
        "print(\"Sorted array: \", l)"
      ],
      "metadata": {
        "colab": {
          "base_uri": "https://localhost:8080/"
        },
        "id": "0QPOslLr-NZi",
        "outputId": "baea7646-8dae-40a2-a14d-bcbf080e9732"
      },
      "execution_count": null,
      "outputs": [
        {
          "output_type": "stream",
          "name": "stdout",
          "text": [
            "Enter numbers: 45 34 23 12 67 45 33 89 40 50 30 29 22 15 22\n",
            "Sorted array:  [12, 15, 22, 22, 23, 29, 30, 33, 34, 40, 45, 45, 50, 67, 89]\n"
          ]
        }
      ]
    },
    {
      "cell_type": "markdown",
      "source": [
        "## ***Merge Sort***"
      ],
      "metadata": {
        "id": "GjUAVhFIBH_3"
      }
    },
    {
      "cell_type": "code",
      "source": [
        "def mergeSort(arr):\n",
        "  n = len(arr)\n",
        "  if(n > 1):\n",
        "    mid = n // 2 \n",
        "    left = arr[0:mid] # left array\n",
        "    right = arr[mid:] # right array\n",
        "    mergeSort(left) # recursive call for left array\n",
        "    mergeSort(right) # recursive call for right array\n",
        "    i = j = k = 0\n",
        "    while(i < len(left) and j < len(right)): # compare elements from both arrays and push it into the sorted array\n",
        "      if(left[i] < right[j]):\n",
        "        arr[k] = left[i]\n",
        "        i += 1\n",
        "      else:\n",
        "        arr[k] = right[j]\n",
        "        j += 1\n",
        "      k += 1\n",
        "    \n",
        "    # push the remaining elements into sorted array\n",
        "    while(i < len(left)):\n",
        "      arr[k] = left[i]\n",
        "      i += 1\n",
        "      k += 1\n",
        "    # push the remaining elements into sorted array\n",
        "    while(j < len(right)):\n",
        "      arr[k] = right[j]\n",
        "      j += 1\n",
        "      k += 1\n",
        "\n",
        "l = list(map(int, input(\"Enter numbers: \").split()))\n",
        "mergeSort(l)\n",
        "print(\"Sorted array:\", l)"
      ],
      "metadata": {
        "colab": {
          "base_uri": "https://localhost:8080/"
        },
        "id": "V-tE03RmBHYN",
        "outputId": "221e44fd-fc76-4bd5-8496-58915e8ed5fe"
      },
      "execution_count": null,
      "outputs": [
        {
          "output_type": "stream",
          "name": "stdout",
          "text": [
            "Enter numbers: 45 34 23 12 67 45 33 89 40 50 30 29 22 15 22\n",
            "Sorted array: [12, 15, 22, 22, 23, 29, 30, 33, 34, 40, 45, 45, 50, 67, 89]\n"
          ]
        }
      ]
    },
    {
      "cell_type": "markdown",
      "source": [
        "# **Linear sort**"
      ],
      "metadata": {
        "id": "xCTNR9JhPSap"
      }
    },
    {
      "cell_type": "markdown",
      "source": [
        "## ***Count Sort***"
      ],
      "metadata": {
        "id": "JxeRPxLaPMj8"
      }
    },
    {
      "cell_type": "code",
      "source": [
        "l = list(map(int, input(\"Enter numbers: \").split()))\n",
        "n = 10 # range of possible keys\n",
        "sortedArray = [None]*n\n",
        "# initialize count dictionary with 0 for all the keys\n",
        "count_dict = {}\n",
        "for i in range(n):\n",
        "  count_dict[i] = 0\n",
        "\n",
        "# Count the frequency of each key\n",
        "for i in l:\n",
        "  count_dict[i] += 1\n",
        "\n",
        "keys = list(count_dict.keys())\n",
        "counts = list(count_dict.values())\n",
        "for i in range(1, n):\n",
        "  counts[i] += counts[i-1]\n",
        "\n",
        "j = 0\n",
        "for i in range(n):\n",
        "  if(i == 0):\n",
        "    temp = counts[0]\n",
        "    counts[0] = 0\n",
        "  else:\n",
        "    newTemp = counts[i]  \n",
        "    counts[i] = temp\n",
        "    temp = newTemp\n",
        "\n",
        "for i in range(n-1):\n",
        "  for j in range(counts[i], counts[i+1]):\n",
        "    sortedArray[j] = keys[i]\n",
        "print(\"sorted array: \", sortedArray)"
      ],
      "metadata": {
        "colab": {
          "base_uri": "https://localhost:8080/"
        },
        "id": "4t-XelIAEe2I",
        "outputId": "76991108-a4b7-4a7c-d95d-86061c1dbdb6"
      },
      "execution_count": null,
      "outputs": [
        {
          "output_type": "stream",
          "name": "stdout",
          "text": [
            "Enter numbers: 1 2 4 2 5 6 7 8 3 4\n",
            "sorted array:  [1, 2, 2, 3, 4, 4, 5, 6, 7, 8]\n"
          ]
        }
      ]
    },
    {
      "cell_type": "markdown",
      "source": [
        "## ***Radix sort***"
      ],
      "metadata": {
        "id": "AHxLEBB-G73s"
      }
    },
    {
      "cell_type": "code",
      "source": [
        "# insertion sort for each bucket\n",
        "def insertionSort(b):\n",
        "\tfor i in range(1, len(b)):\n",
        "\t\tup = b[i]\n",
        "\t\tj = i - 1\n",
        "\t\twhile j >= 0 and b[j] > up:\n",
        "\t\t\tb[j + 1] = b[j]\n",
        "\t\t\tj -= 1\n",
        "\t\tb[j + 1] = up\t\n",
        "\treturn b\n",
        "\n",
        "def bucketSort(x):\n",
        "\tarr = []\n",
        "\tslot_num = 10 # 10 slots, each slot's size is 0.1\n",
        "\tfor i in range(slot_num):\n",
        "\t\tarr.append([])\n",
        "\t\t\n",
        "\t# Put array elements in different buckets\n",
        "\tfor j in x:\n",
        "\t\tindex_b = int(slot_num * j)\n",
        "\t\tarr[index_b].append(j)\n",
        "\t\n",
        "\t# Sort individual buckets\n",
        "\tfor i in range(slot_num):\n",
        "\t\tarr[i] = insertionSort(arr[i])\n",
        "\t\t\n",
        "\t# concatenate the result\n",
        "\tk = 0\n",
        "\tfor i in range(slot_num):\n",
        "\t\tfor j in range(len(arr[i])):\n",
        "\t\t\tx[k] = arr[i][j]\n",
        "\t\t\tk += 1\n",
        "\treturn x\n",
        "\n",
        "x = [0.897, 0.565, 0.656, 0.1234, 0.665, 0.3434]\n",
        "print(\"Sorted Array is\", bucketSort(x))"
      ],
      "metadata": {
        "colab": {
          "base_uri": "https://localhost:8080/"
        },
        "id": "R7iCSqMmHBZU",
        "outputId": "a4367887-b5ae-487c-b54f-9c48c1837563"
      },
      "execution_count": null,
      "outputs": [
        {
          "output_type": "stream",
          "name": "stdout",
          "text": [
            "Sorted Array is [0.1234, 0.3434, 0.565, 0.656, 0.665, 0.897]\n"
          ]
        }
      ]
    }
  ]
}