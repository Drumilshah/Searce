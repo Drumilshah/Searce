{
  "nbformat": 4,
  "nbformat_minor": 0,
  "metadata": {
    "colab": {
      "name": "Practice_Week4_day04.ipynb",
      "provenance": [],
      "collapsed_sections": []
    },
    "kernelspec": {
      "name": "python3",
      "display_name": "Python 3"
    },
    "language_info": {
      "name": "python"
    }
  },
  "cells": [
    {
      "cell_type": "markdown",
      "source": [
        "## ***Dynamic programming***"
      ],
      "metadata": {
        "id": "b5bVHcKG0S8a"
      }
    },
    {
      "cell_type": "markdown",
      "source": [
        "### ***Fibonacci series***"
      ],
      "metadata": {
        "id": "Kc4B4Nt7rTBg"
      }
    },
    {
      "cell_type": "code",
      "execution_count": null,
      "metadata": {
        "colab": {
          "base_uri": "https://localhost:8080/"
        },
        "id": "DiUpVveQyygu",
        "outputId": "daf066bb-fd50-4927-f2b2-fef93bba8dc3"
      },
      "outputs": [
        {
          "output_type": "stream",
          "name": "stdout",
          "text": [
            "34\n"
          ]
        }
      ],
      "source": [
        "def fibonacci(n):\n",
        "\t# Taking 1st two fibonacci numbers as 0 and 1\n",
        "\tf = [0, 1]\n",
        "\tfor i in range(2, n+1):\n",
        "\t\tf.append(f[i-1] + f[i-2])\n",
        "\treturn f[n]\n",
        "\n",
        "print(fibonacci(9)) # Find the 9th number in fibonacci series"
      ]
    },
    {
      "cell_type": "markdown",
      "source": [
        ""
      ],
      "metadata": {
        "id": "5ag3FeDNr4IB"
      }
    },
    {
      "cell_type": "code",
      "source": [
        ""
      ],
      "metadata": {
        "id": "xq86lxwJr3ZN"
      },
      "execution_count": null,
      "outputs": []
    }
  ]
}