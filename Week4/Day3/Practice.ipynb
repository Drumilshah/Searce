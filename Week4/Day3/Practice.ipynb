{
  "nbformat": 4,
  "nbformat_minor": 0,
  "metadata": {
    "colab": {
      "name": "Practice_Week4_day03.ipynb",
      "provenance": [],
      "collapsed_sections": []
    },
    "kernelspec": {
      "name": "python3",
      "display_name": "Python 3"
    },
    "language_info": {
      "name": "python"
    }
  },
  "cells": [
    {
      "cell_type": "markdown",
      "source": [
        "## ***Binary Tree***"
      ],
      "metadata": {
        "id": "nDYzOWPg0PGW"
      }
    },
    {
      "cell_type": "code",
      "execution_count": null,
      "metadata": {
        "colab": {
          "base_uri": "https://localhost:8080/"
        },
        "id": "hTkNWv2DF4Ol",
        "outputId": "b16e5458-95dd-43a4-c451-15809acff0a5"
      },
      "outputs": [
        {
          "output_type": "stream",
          "name": "stdout",
          "text": [
            "10\n",
            "6\n",
            "11\n",
            "5\n",
            "7\n",
            "4\n",
            "9\n"
          ]
        }
      ],
      "source": [
        "class Node:\n",
        "  def __init__(self, data):\n",
        "    self.data = data\n",
        "    self.left = None\n",
        "    self.right = None\n",
        "\n",
        "  # Traverse binary tree\n",
        "  def traverse(self, node):\n",
        "    if(node.left):\n",
        "      self.traverse(node.left)\n",
        "    print(node.data)\n",
        "    if(node.right):\n",
        "      self.traverse(node.right)\n",
        "\n",
        "obj = Node(5)\n",
        "obj.right = Node(4)\n",
        "obj.left = Node(6)\n",
        "obj.right.left = Node(7)\n",
        "obj.right.right = Node(9)\n",
        "obj.left.left = Node(10)\n",
        "obj.left.right = Node(11)\n",
        "\n",
        "obj.traverse(obj)"
      ]
    },
    {
      "cell_type": "markdown",
      "source": [
        "## ***Binary Search Tree***"
      ],
      "metadata": {
        "id": "Bb3esOj4hrJx"
      }
    },
    {
      "cell_type": "code",
      "source": [
        "# structure of node \n",
        "class Node:\n",
        "  def __init__(self, data):\n",
        "    self.data = data\n",
        "    self.left = None\n",
        "    self.right = None\n",
        "\n",
        "# binary search tree\n",
        "class BST:\n",
        "  def __init__(self):\n",
        "    self.root = None\n",
        "\n",
        "  # insert item into binary search tree\n",
        "  def insert(self, root, data):\n",
        "    if(root):\n",
        "      if(root.data <= data):\n",
        "        if(root.right):\n",
        "          self.insert(root.right, data)\n",
        "        else:\n",
        "          root.right = Node(data)\n",
        "      else:\n",
        "        if(root.left):\n",
        "          self.insert(root.left, data)\n",
        "        else:\n",
        "          root.left = Node(data)\n",
        "    else:\n",
        "      self.root = Node(data)\n",
        "\n",
        "  # in order traversal of binary search tree\n",
        "  def inorderTraversal(self, root):\n",
        "    if(root and root.left):\n",
        "      self.inorderTraversal(root.left)\n",
        "    print(root.data, end = \" \")\n",
        "    if(root and root.right):\n",
        "      self.inorderTraversal(root.right)\n",
        "\n",
        "  # search item in binary search tree\n",
        "  def searchNode(self, root, key):\n",
        "    if(root):\n",
        "      if(root.data == key):\n",
        "        print(\"{} Found\".format(key))\n",
        "        return root\n",
        "      elif(root.data < key):\n",
        "        return self.searchNode(root.right, key)\n",
        "      else:\n",
        "        return self.searchNode(root.left, key)\n",
        "    else:\n",
        "      print(\"{} Not Found\".format(key))\n",
        "\n",
        "obj = BST()\n",
        "root = Node(10) # root node \n",
        "obj.insert(root, 6)\n",
        "obj.insert(root, 9)\n",
        "obj.insert(root, 14)\n",
        "obj.insert(root, 18)\n",
        "obj.insert(root, 17)\n",
        "obj.insert(root, 20)\n",
        "obj.insert(root, 12)\n",
        "obj.insert(root, 25)\n",
        "\n",
        "print(\"Inorder traversal: \")\n",
        "obj.inorderTraversal(root)\n",
        "print()\n",
        "obj.searchNode(root, 17)\n",
        "obj.searchNode(root, 27)"
      ],
      "metadata": {
        "colab": {
          "base_uri": "https://localhost:8080/"
        },
        "id": "UBZ1KwJ0huT5",
        "outputId": "b89cb1df-eb8c-446b-fd32-f0aaede76f50"
      },
      "execution_count": null,
      "outputs": [
        {
          "output_type": "stream",
          "name": "stdout",
          "text": [
            "Inorder traversal: \n",
            "6 9 10 12 14 17 18 20 25 \n",
            "17 Found\n",
            "27 Not Found\n"
          ]
        }
      ]
    },
    {
      "cell_type": "markdown",
      "source": [
        "## ***Heap Sort***"
      ],
      "metadata": {
        "id": "UJ9Iwq83oTGD"
      }
    },
    {
      "cell_type": "code",
      "source": [
        "# To heapify subtree rooted at index i.\n",
        "# n is size of heap\n",
        "def heapify(arr, n, i):\n",
        "\tlargest = i # Initialize largest as root\n",
        "\tl = 2 * i + 1\t # left = 2*i + 1\n",
        "\tr = 2 * i + 2\t # right = 2*i + 2\n",
        "\n",
        "\t# See if left child of root exists and is greater than root\n",
        "\tif l < n and arr[largest] < arr[l]:\n",
        "\t\tlargest = l\n",
        "\n",
        "\t# See if right child of root exists and is greater than root\n",
        "\tif r < n and arr[largest] < arr[r]:\n",
        "\t\tlargest = r\n",
        "\n",
        "\t# Change root, if needed\n",
        "\tif largest != i:\n",
        "\t\tarr[i], arr[largest] = arr[largest], arr[i] # swap\n",
        "\n",
        "\t\t# Heapify the root.\n",
        "\t\theapify(arr, n, largest)\n",
        "\n",
        "# The main function to sort an array of given size\n",
        "def heapSort(arr):\n",
        "\tn = len(arr)\n",
        "\n",
        "\t# Build a maxheap.\n",
        "\tfor i in range(n//2 - 1, -1, -1):\n",
        "\t\theapify(arr, n, i)\n",
        "\n",
        "\t# One by one extract elements\n",
        "\tfor i in range(n-1, 0, -1):\n",
        "\t\tarr[i], arr[0] = arr[0], arr[i] # swap\n",
        "\t\theapify(arr, i, 0)\n",
        "\n",
        "\n",
        "arr = [12, 11, 13, 5, 6, 7]\n",
        "heapSort(arr)\n",
        "n = len(arr)\n",
        "print(\"Sorted array is\")\n",
        "for i in range(n):\n",
        "\tprint(\"%d\" % arr[i],end=\" \")"
      ],
      "metadata": {
        "colab": {
          "base_uri": "https://localhost:8080/"
        },
        "id": "p_cDcKu9oS02",
        "outputId": "4d47c4b7-6fef-485d-8366-1d2adfea08ca"
      },
      "execution_count": null,
      "outputs": [
        {
          "output_type": "stream",
          "name": "stdout",
          "text": [
            "Sorted array is\n",
            "5 6 7 11 12 13 "
          ]
        }
      ]
    },
    {
      "cell_type": "markdown",
      "source": [
        "## ***Randomized Quick Sort***"
      ],
      "metadata": {
        "id": "g5X_cInNyAKt"
      }
    },
    {
      "cell_type": "code",
      "source": [
        "import random\n",
        "\n",
        "def quicksort(arr, start , stop):\n",
        "\tif(start < stop):\n",
        "\t\t\n",
        "\t\t# pivotindex is the index where the pivot lies in the array\n",
        "\t\tpivotindex = partitionrand(arr, start, stop)\n",
        "\t\t\n",
        "\t\t# At this stage the array is partially sorted around the pivot.\n",
        "\t\t# Separately sorting the left half of the array and the right half of the array.\n",
        "\t\tquicksort(arr , start , pivotindex-1)\n",
        "\t\tquicksort(arr, pivotindex + 1, stop)\n",
        "\n",
        "# This function generates random pivot, swaps the first element with the pivot and calls the partition function.\n",
        "def partitionrand(arr , start, stop):\n",
        "\n",
        "\t# Generating a random number between the starting index of the array and the ending index of the array.\n",
        "\trandpivot = random.randrange(start, stop)\n",
        "\n",
        "\t# Swapping the starting element of the array and the pivot\n",
        "\tarr[start], arr[randpivot] = \\\n",
        "\t\tarr[randpivot], arr[start]\n",
        "\treturn partition(arr, start, stop)\n",
        "\n",
        "'''\n",
        "This function takes the first element as pivot, places the pivot element at the correct position\n",
        "in the sorted array. All the elements are re-arranged according to the pivot, the elements smaller than the\n",
        "pivot is places on the left and the elements greater than the pivot is placed to the right of pivot.\n",
        "'''\n",
        "def partition(arr,start,stop):\n",
        "\tpivot = start # pivot\n",
        "\t\n",
        "\t# a variable to memorize where the\n",
        "\ti = start + 1\n",
        "\t\n",
        "\t# partition in the array starts from.\n",
        "\tfor j in range(start + 1, stop + 1):\n",
        "\t\t\n",
        "\t\t# if the current element is smaller or equal to pivot, shift it to the left side of the partition.\n",
        "\t\tif arr[j] <= arr[pivot]:\n",
        "\t\t\tarr[i] , arr[j] = arr[j] , arr[i]\n",
        "\t\t\ti = i + 1\n",
        "\tarr[pivot] , arr[i - 1] =\\\n",
        "\t\t\tarr[i - 1] , arr[pivot]\n",
        "\tpivot = i - 1\n",
        "\treturn (pivot)\n",
        "\n",
        "array = [10, 7, 8, 9, 1, 5]\n",
        "quicksort(array, 0, len(array) - 1)\n",
        "print(\"Sorted array:\", array)"
      ],
      "metadata": {
        "colab": {
          "base_uri": "https://localhost:8080/"
        },
        "id": "13QXTtOfx-nj",
        "outputId": "8e4f4402-8639-4a19-bf38-87b5303236bc"
      },
      "execution_count": null,
      "outputs": [
        {
          "output_type": "stream",
          "name": "stdout",
          "text": [
            "Sorted array: [1, 5, 7, 8, 9, 10]\n"
          ]
        }
      ]
    }
  ]
}