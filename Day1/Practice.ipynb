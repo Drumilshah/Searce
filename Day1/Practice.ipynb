{
  "nbformat": 4,
  "nbformat_minor": 0,
  "metadata": {
    "colab": {
      "name": "practice_day01.ipynb",
      "provenance": [],
      "collapsed_sections": []
    },
    "kernelspec": {
      "name": "python3",
      "display_name": "Python 3"
    },
    "language_info": {
      "name": "python"
    }
  },
  "cells": [
    {
      "cell_type": "markdown",
      "source": [
        "##***Array***"
      ],
      "metadata": {
        "id": "8eZlvLsBqbz1"
      }
    },
    {
      "cell_type": "code",
      "execution_count": 2,
      "metadata": {
        "id": "jfp1PCnMqPGO"
      },
      "outputs": [],
      "source": [
        "import array as arr"
      ]
    },
    {
      "cell_type": "code",
      "source": [
        "# Creating array\n",
        "\n",
        "a = arr.array('i', [])\n",
        "n = int(input(\"How many elements you want to add? \"))\n",
        "print(\"Enter elements: \")\n",
        "for i in range(n):\n",
        "  # a.insert(i, int(input()))\n",
        "  a.append(int(input()))\n",
        "print(\"The array is: \", a)"
      ],
      "metadata": {
        "colab": {
          "base_uri": "https://localhost:8080/"
        },
        "id": "GClKckcQrC9_",
        "outputId": "26ca8240-33ab-49df-b62a-8e7915be9ca1"
      },
      "execution_count": 24,
      "outputs": [
        {
          "output_type": "stream",
          "name": "stdout",
          "text": [
            "How many elements you want to add? 5\n",
            "Enter elements: \n",
            "4\n",
            "3\n",
            "6\n",
            "7\n",
            "8\n",
            "The array is:  array('i', [4, 3, 6, 7, 8])\n"
          ]
        }
      ]
    },
    {
      "cell_type": "code",
      "source": [
        "# Traversal of array\n",
        "\n",
        "print(\"Traversal of array: \")\n",
        "for i in range(len(a)):\n",
        "  print(a[i], end = \" \")"
      ],
      "metadata": {
        "colab": {
          "base_uri": "https://localhost:8080/"
        },
        "id": "yutgcu8vuLzZ",
        "outputId": "587a9bb5-3169-4bd8-d28b-6779b7835d66"
      },
      "execution_count": 25,
      "outputs": [
        {
          "output_type": "stream",
          "name": "stdout",
          "text": [
            "Traversal of array: \n",
            "4 3 6 7 8 "
          ]
        }
      ]
    },
    {
      "cell_type": "code",
      "source": [
        "# Inserting element\n",
        "\n",
        "ind = int(input(\"Enter the index where the element to insert: \"))\n",
        "n = int(input(\"Enter the element to insert into an array: \"))\n",
        "\n",
        "a.insert(ind, n)\n",
        "print(\"After inserting the element in the array: \", a)"
      ],
      "metadata": {
        "colab": {
          "base_uri": "https://localhost:8080/"
        },
        "id": "-6uw8uJWucFW",
        "outputId": "27734c43-2bdb-4669-dcb0-08920208d345"
      },
      "execution_count": 26,
      "outputs": [
        {
          "output_type": "stream",
          "name": "stdout",
          "text": [
            "Enter the index where the element to insert: 3\n",
            "Enter the element to insert into an array: 9\n",
            "After inserting the element in the array:  array('i', [4, 3, 6, 9, 7, 8])\n"
          ]
        }
      ]
    },
    {
      "cell_type": "code",
      "source": [
        "# Removing element from array\n",
        "\n",
        "# remove element by index\n",
        "ind = int(input(\"Enter the index to delete the element: \"))\n",
        "a.pop(ind)\n",
        "\n",
        "# remove element by value(1st occurance of value)\n",
        "n = int(input(\"Enter the element value to remove it: \"))\n",
        "a.remove(n)\n",
        "\n",
        "print(\"After removing the element in the array: \", a)"
      ],
      "metadata": {
        "colab": {
          "base_uri": "https://localhost:8080/"
        },
        "id": "nTnQth_GvLfK",
        "outputId": "ffb555cd-8127-4df1-d914-57c24bd6aedf"
      },
      "execution_count": 27,
      "outputs": [
        {
          "output_type": "stream",
          "name": "stdout",
          "text": [
            "Enter the index to delete the element: 3\n",
            "Enter the element value to remove it: 7\n",
            "After removing the element in the array:  array('i', [4, 3, 6, 8])\n"
          ]
        }
      ]
    },
    {
      "cell_type": "code",
      "source": [
        "# Updating element in array\n",
        "\n",
        "# update element by index\n",
        "ind = int(input('Enter the index to update element: '))\n",
        "n = int(input('Enter the new value: '))\n",
        "a[ind] = n\n",
        "\n",
        "# update element by value\n",
        "old_n = int(input(\"Enter the old element value: \"))\n",
        "n = int(input('Enter the new element value: '))\n",
        "for i in range(len(a)):\n",
        "  if(a[i] == old_n):\n",
        "    a[i] = n\n",
        "     \n",
        "print(\"After updating the element in the array: \", a)"
      ],
      "metadata": {
        "colab": {
          "base_uri": "https://localhost:8080/"
        },
        "id": "eVqZ3-RywqiH",
        "outputId": "fb7e10a3-460e-493f-e895-b2f7c3122eaf"
      },
      "execution_count": 28,
      "outputs": [
        {
          "output_type": "stream",
          "name": "stdout",
          "text": [
            "Enter the index to update element: 1\n",
            "Enter the new value: 5\n",
            "Enter the old element value: 6\n",
            "Enter the new element value: 9\n",
            "After updating the element in the array:  array('i', [4, 5, 9, 8])\n"
          ]
        }
      ]
    },
    {
      "cell_type": "code",
      "source": [
        "# Searching element in array\n",
        "\n",
        "n = int(input('Enter the value to find in the array: '))\n",
        "flag = 0\n",
        "for i in a:\n",
        "  if(i == n):\n",
        "    print(\"Found\")\n",
        "    flag = 1\n",
        "    break\n",
        "if(flag == 0):\n",
        "  print('Not found')"
      ],
      "metadata": {
        "colab": {
          "base_uri": "https://localhost:8080/"
        },
        "id": "qKEzHlPxxZHe",
        "outputId": "57833308-58b1-4ae0-d009-97fc868535d0"
      },
      "execution_count": 29,
      "outputs": [
        {
          "output_type": "stream",
          "name": "stdout",
          "text": [
            "Enter the value to find in the array: 8\n",
            "Found\n"
          ]
        }
      ]
    },
    {
      "cell_type": "code",
      "source": [
        "# Reversing array\n",
        "\n",
        "a = a[::-1]\n",
        "print(\"The array after reversing\", a)"
      ],
      "metadata": {
        "colab": {
          "base_uri": "https://localhost:8080/"
        },
        "id": "beSJxYGxx0it",
        "outputId": "4c61b4ac-3cbe-4ad1-e3ee-9433f7d8d3b9"
      },
      "execution_count": 30,
      "outputs": [
        {
          "output_type": "stream",
          "name": "stdout",
          "text": [
            "The array after reversing array('i', [8, 9, 5, 4])\n"
          ]
        }
      ]
    },
    {
      "cell_type": "code",
      "source": [
        "# Sorting array\n",
        "\n",
        "for i in range(1, len(a)):\n",
        "    key = a[i]\n",
        "    j = i-1\n",
        "    while(j >= 0 and key < a[j]):\n",
        "      a[j + 1] = a[j]\n",
        "      j -= 1\n",
        "    a[j+1] = key\n",
        "  \n",
        "print(\"Sorted array: \", a)"
      ],
      "metadata": {
        "colab": {
          "base_uri": "https://localhost:8080/"
        },
        "id": "tB6C-4TTyTLn",
        "outputId": "aea332c0-57aa-4e2a-c88f-3917e5f68b79"
      },
      "execution_count": 32,
      "outputs": [
        {
          "output_type": "stream",
          "name": "stdout",
          "text": [
            "Sorted array:  array('i', [4, 5, 8, 9])\n"
          ]
        }
      ]
    },
    {
      "cell_type": "markdown",
      "source": [
        "## ***Stack***"
      ],
      "metadata": {
        "id": "xpImuSkGfUiB"
      }
    },
    {
      "cell_type": "code",
      "source": [
        "# Creating a stack\n",
        "\n",
        "class Stack:\n",
        "  def __init__(self):\n",
        "    self.stack = []\n",
        "\n",
        "  # push element into stack\n",
        "  def push(self, element):\n",
        "    self.stack.append(element)\n",
        "\n",
        "  # pop the last inserted element from stack\n",
        "  def pop(self):\n",
        "    if(self.isEmpty()):\n",
        "      return False\n",
        "    return self.stack.pop()\n",
        "\n",
        "  # check whether stack is empty or not\n",
        "  def isEmpty(self):\n",
        "    return(len(self.stack) == 0)\n",
        "\n",
        "obj = Stack()\n",
        "obj.push(5)\n",
        "obj.push(6)\n",
        "obj.push(0)\n",
        "obj.push(8)\n",
        "\n",
        "print(\"pop elements from the stack: \")\n",
        "for i in range(3):\n",
        "  element = obj.pop()\n",
        "  if(element is False):\n",
        "    print(\"Stack is empty\")\n",
        "    break\n",
        "  else:\n",
        "    print(element)\n",
        "print(\"Remaining elements after pop operation on stack: \", obj.stack)"
      ],
      "metadata": {
        "colab": {
          "base_uri": "https://localhost:8080/"
        },
        "id": "r-4YaIn-fX45",
        "outputId": "e53a3ffa-6520-4410-b0c1-55cd2b622aaa"
      },
      "execution_count": 22,
      "outputs": [
        {
          "output_type": "stream",
          "name": "stdout",
          "text": [
            "pop elements from the stack: \n",
            "8\n",
            "0\n",
            "6\n",
            "Remaining elements after pop operation on stack:  [5]\n"
          ]
        }
      ]
    },
    {
      "cell_type": "markdown",
      "source": [
        "## ***Queue***"
      ],
      "metadata": {
        "id": "mrpNIqekjFow"
      }
    },
    {
      "cell_type": "code",
      "source": [
        "class Queue:\n",
        "  def __init__(self):\n",
        "    self.queue = []\n",
        "  \n",
        "  def isEmpty(self):\n",
        "    return(len(self.queue) == 0)\n",
        "\n",
        "  # insert element in the queue\n",
        "  def enQueue(self, element):\n",
        "    self.queue.append(element)\n",
        "\n",
        "  # remove first element from the queue\n",
        "  def deQueue(self):\n",
        "    if(not self.isEmpty()):\n",
        "      return self.queue.pop(0)\n",
        "    else:\n",
        "      print(\"Queue is empty\")\n",
        "      return False\n",
        "\n",
        "# create new object\n",
        "obj = Queue()\n",
        "\n",
        "# inserting elements in the queue\n",
        "obj.enQueue(4)\n",
        "obj.enQueue(5)\n",
        "obj.enQueue(0)\n",
        "obj.enQueue(7)\n",
        "obj.enQueue(8)\n",
        "\n",
        "# Dequeue operation\n",
        "for i in range(9):\n",
        "  ele = obj.deQueue()\n",
        "  if(ele is False):\n",
        "    break\n",
        "  else:\n",
        "    print(ele)"
      ],
      "metadata": {
        "colab": {
          "base_uri": "https://localhost:8080/"
        },
        "id": "fm2dNyMZjL96",
        "outputId": "66589ab4-a247-4676-a9c2-59711b2c9a2d"
      },
      "execution_count": 21,
      "outputs": [
        {
          "output_type": "stream",
          "name": "stdout",
          "text": [
            "4\n",
            "5\n",
            "0\n",
            "7\n",
            "8\n",
            "Queue is empty\n"
          ]
        }
      ]
    },
    {
      "cell_type": "markdown",
      "source": [
        "## ***Linked List***"
      ],
      "metadata": {
        "id": "DpUs_JTZvrJR"
      }
    },
    {
      "cell_type": "markdown",
      "source": [
        "### Singly Linked List"
      ],
      "metadata": {
        "id": "qbs8l87i1tds"
      }
    },
    {
      "cell_type": "code",
      "source": [
        "class Node:\n",
        "  def __init__(self, data):\n",
        "    self.data = data\n",
        "    self.next = None\n",
        "\n",
        "class SinglyLinkedList:\n",
        "  def __init__(self):\n",
        "    self.head = None\n",
        "  \n",
        "  def insertNode(self, data):\n",
        "    newNode = Node(data)\n",
        "    if(self.head):\n",
        "      temp = self.head\n",
        "      while(temp.next):\n",
        "        temp = temp.next\n",
        "      temp.next = newNode\n",
        "    else:\n",
        "      self.head = newNode\n",
        "\n",
        "  def traversal(self):\n",
        "    temp = self.head\n",
        "    while(temp):\n",
        "      print(temp.data)\n",
        "      temp = temp.next\n",
        "\n",
        "  def deleteNode(self, data):\n",
        "    # delete the first node\n",
        "    if(self.head.data == data):\n",
        "      self.head = self.head.next\n",
        "    else:\n",
        "      temp = self.head\n",
        "      pre_temp = temp\n",
        "      temp = temp.next\n",
        "      while(temp):\n",
        "        if(temp.data == data):\n",
        "          pre_temp.next = temp.next\n",
        "          break\n",
        "        pre_temp = temp\n",
        "        temp = temp.next\n",
        "\n",
        "  def searchNode(self, data):\n",
        "    temp = self.head\n",
        "    while(temp):\n",
        "      if(temp.data == data):\n",
        "        return True\n",
        "      temp = temp.next\n",
        "    return False\n",
        "\n",
        "obj = SinglyLinkedList()\n",
        "obj.insertNode(5)\n",
        "obj.insertNode(6)\n",
        "obj.insertNode(7)\n",
        "obj.insertNode(8)\n",
        "obj.insertNode(9)\n",
        "\n",
        "print(\"Linked list traversal:\")\n",
        "obj.traversal()\n",
        "print(\"\\n\")\n",
        "\n",
        "obj.deleteNode(6)\n",
        "obj.deleteNode(9)\n",
        "\n",
        "if(obj.searchNode(8)):\n",
        "  print(\"Found\\n\")\n",
        "else:\n",
        "  print(\"Not Found\\n\")\n",
        "\n",
        "print(\"Linked list traversal: \")\n",
        "obj.traversal()"
      ],
      "metadata": {
        "colab": {
          "base_uri": "https://localhost:8080/"
        },
        "id": "8LwjJxU_vqTR",
        "outputId": "418f72a7-3fd8-448a-bad2-60be08e3bb4d"
      },
      "execution_count": 31,
      "outputs": [
        {
          "output_type": "stream",
          "name": "stdout",
          "text": [
            "Linked list traversal:\n",
            "5\n",
            "6\n",
            "7\n",
            "8\n",
            "9\n",
            "\n",
            "\n",
            "Found\n",
            "\n",
            "Linked list traversal: \n",
            "5\n",
            "7\n",
            "8\n"
          ]
        }
      ]
    }
  ]
}