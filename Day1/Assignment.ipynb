{
  "nbformat": 4,
  "nbformat_minor": 0,
  "metadata": {
    "colab": {
      "name": "Assignment_day01.ipynb",
      "provenance": [],
      "collapsed_sections": []
    },
    "kernelspec": {
      "name": "python3",
      "display_name": "Python 3"
    },
    "language_info": {
      "name": "python"
    }
  },
  "cells": [
    {
      "cell_type": "markdown",
      "source": [
        "### **Q.1 Reverse the array**"
      ],
      "metadata": {
        "id": "RptrGh-pQHPE"
      }
    },
    {
      "cell_type": "code",
      "source": [
        "def reverseArray(l):\n",
        "  return l[::-1]"
      ],
      "metadata": {
        "id": "h4JkqzR1Qojn"
      },
      "execution_count": 1,
      "outputs": []
    },
    {
      "cell_type": "code",
      "execution_count": 3,
      "metadata": {
        "colab": {
          "base_uri": "https://localhost:8080/"
        },
        "id": "m0H6UUSkQD1w",
        "outputId": "38614ae7-4fce-4862-df49-af8760daaa49"
      },
      "outputs": [
        {
          "output_type": "stream",
          "name": "stdout",
          "text": [
            "Enter array element separated by space: 3 4 5 6 7 8 9\n",
            "Original Array is:  [3, 4, 5, 6, 7, 8, 9]\n",
            "Reversed array is:  [9, 8, 7, 6, 5, 4, 3]\n"
          ]
        }
      ],
      "source": [
        "l = list(map(int, input(\"Enter array element separated by space: \").split()))\n",
        "print(\"Original Array is: \", l)\n",
        "\n",
        "l = reverseArray(l)\n",
        "print(\"Reversed array is: \", l)"
      ]
    },
    {
      "cell_type": "markdown",
      "source": [
        "### **Q.2 Linked list traversal**"
      ],
      "metadata": {
        "id": "2dweEZQCRSGa"
      }
    },
    {
      "cell_type": "code",
      "source": [
        "class Node:\n",
        "  def __init__(self, data):\n",
        "    self.data = data\n",
        "    self.next = None"
      ],
      "metadata": {
        "id": "3JqMTXR5R1rd"
      },
      "execution_count": 4,
      "outputs": []
    },
    {
      "cell_type": "code",
      "source": [
        "class LinkedList:\n",
        "  def __init__(self):\n",
        "    self.head = None\n",
        "\n",
        "  def printLinkedList(self):\n",
        "    print(\"The traversal of linked list is: \")\n",
        "    temp = self.head\n",
        "    while(temp):\n",
        "      print(temp.data)\n",
        "      temp = temp.next"
      ],
      "metadata": {
        "id": "VZvDOULQS3QE"
      },
      "execution_count": 5,
      "outputs": []
    },
    {
      "cell_type": "code",
      "source": [
        "if __name__ == \"__main__\":\n",
        "  n = int(input())  # Number of nodes\n",
        "  obj = LinkedList()\n",
        "  temp = obj.head\n",
        "  for i in range(n):\n",
        "    val = int(input())\n",
        "    if(i == 0):\n",
        "      obj.head = Node(val)\n",
        "      temp = obj.head\n",
        "    else:\n",
        "      temp.next = Node(val)\n",
        "      temp = temp.next\n",
        "  \n",
        "  obj.printLinkedList()"
      ],
      "metadata": {
        "colab": {
          "base_uri": "https://localhost:8080/"
        },
        "id": "16rFG8D5TXrV",
        "outputId": "687795b9-98b8-4544-d482-88b9c493dade"
      },
      "execution_count": 16,
      "outputs": [
        {
          "output_type": "stream",
          "name": "stdout",
          "text": [
            "5\n",
            "7\n",
            "8\n",
            "4\n",
            "3\n",
            "9\n",
            "The traversal of Linked list is: \n",
            "7\n",
            "8\n",
            "4\n",
            "3\n",
            "9\n"
          ]
        }
      ]
    }
  ]
}