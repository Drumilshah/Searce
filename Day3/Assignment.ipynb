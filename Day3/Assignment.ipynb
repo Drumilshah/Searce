{
  "nbformat": 4,
  "nbformat_minor": 0,
  "metadata": {
    "colab": {
      "name": "Assignment_day03.ipynb",
      "provenance": [],
      "collapsed_sections": []
    },
    "kernelspec": {
      "name": "python3",
      "display_name": "Python 3"
    },
    "language_info": {
      "name": "python"
    }
  },
  "cells": [
    {
      "cell_type": "markdown",
      "source": [
        "## **Q.1 Find minimum average waiting time**"
      ],
      "metadata": {
        "id": "duURUdDbuG43"
      }
    },
    {
      "cell_type": "code",
      "execution_count": 3,
      "metadata": {
        "colab": {
          "base_uri": "https://localhost:8080/"
        },
        "id": "rigtCdk7YkjM",
        "outputId": "6bff272e-9dfe-43d1-b541-15b75606b72d"
      },
      "outputs": [
        {
          "output_type": "stream",
          "name": "stdout",
          "text": [
            "5\n",
            "0 3\n",
            "1 8\n",
            "1 4\n",
            "15 10\n",
            "16 7\n",
            "9\n"
          ]
        }
      ],
      "source": [
        "# Use heap queue algorithm (a.k.a. priority queue).\n",
        "import heapq \n",
        "\n",
        "def minWait(allOrders):\n",
        "    totalWaitTime = 0\n",
        "    numOrders = len(allOrders)\n",
        "    if(numOrders == 0):\n",
        "        return 0\n",
        "    pendingOrders = []\n",
        "    currentTime = allOrders[0][0]\n",
        "    loop = True\n",
        "    while loop :\n",
        "        while(len(allOrders) != 0 and allOrders[0][0] <= currentTime):\n",
        "            order = heapq.heappop(allOrders)   \n",
        "            heapq.heappush(pendingOrders, (order[1], order[0])) # add pending orders into another priority queue\n",
        "        if(len(pendingOrders) != 0): #count waiting time for all pending orders\n",
        "            minWaitOrder = heapq.heappop(pendingOrders) \n",
        "            waitTime = currentTime - minWaitOrder[1] + minWaitOrder[0]\n",
        "            totalWaitTime += waitTime\n",
        "            currentTime += minWaitOrder[0]\n",
        "        else:\n",
        "            currentTime += 1\n",
        "        if(len(pendingOrders) == 0 and len(allOrders) == 0):\n",
        "            loop = False\n",
        "    return (totalWaitTime/numOrders)\n",
        "\n",
        "n = int(input())\n",
        "allOrders = []\n",
        "for i in range(n) :\n",
        "    line = input().split()\n",
        "    l, t = int(line[0]), int(line[1])\n",
        "    heapq.heappush(allOrders, (l, t)) # push tuple into allorders list\n",
        "print(int(minWait(allOrders)))"
      ]
    }
  ]
}