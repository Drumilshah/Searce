{
  "nbformat": 4,
  "nbformat_minor": 0,
  "metadata": {
    "colab": {
      "name": "Practice_day03.ipynb",
      "provenance": [],
      "collapsed_sections": []
    },
    "kernelspec": {
      "name": "python3",
      "display_name": "Python 3"
    },
    "language_info": {
      "name": "python"
    }
  },
  "cells": [
    {
      "cell_type": "markdown",
      "source": [
        "## ***Hash Table using linear probing***"
      ],
      "metadata": {
        "id": "Rtqo6T_cGchN"
      }
    },
    {
      "cell_type": "code",
      "execution_count": 12,
      "metadata": {
        "colab": {
          "base_uri": "https://localhost:8080/"
        },
        "id": "4WxwGqF_GQ98",
        "outputId": "24127698-d3b6-4e58-c01f-0b99f6807c0d"
      },
      "outputs": [
        {
          "output_type": "stream",
          "name": "stdout",
          "text": [
            "[None, None, 2, 12, 4, 44, 5, 15, 6, 9]\n",
            "Not found\n",
            "Found\n",
            "Found\n",
            "44 removed from hash table\n",
            "Not found\n",
            "65 not found in hash table\n",
            "[None, None, 2, 12, 4, None, 5, 15, 6, 9]\n"
          ]
        }
      ],
      "source": [
        "class HashTable:\n",
        "  def __init__(self, size):\n",
        "    self.size = size\n",
        "    self.hash = [None]*size\n",
        "\n",
        "  # append the new item in the hash table\n",
        "  def addItem(self, num):\n",
        "    ind = int(num % self.size)\n",
        "    while(True):\n",
        "      if(self.hash[ind] == None):\n",
        "        self.hash[ind] = num\n",
        "        break\n",
        "      else:\n",
        "        ind = (ind + 1) % self.size\n",
        "\n",
        "  # Remove item from hash table\n",
        "  def removeItem(self, val):\n",
        "    ind = self.findValue(val)\n",
        "    if(ind is False):\n",
        "      print(\"{} not found in hash table\".format(val))\n",
        "    else:\n",
        "      self.hash[ind] = None\n",
        "      print(\"{} removed from hash table\".format(val))\n",
        "     \n",
        "  # print hash table\n",
        "  def printHashTable(self):\n",
        "    print(self.hash)\n",
        "\n",
        "  # find the item in hash table\n",
        "  def findValue(self, val):\n",
        "    ind = val % self.size\n",
        "    curr = ind\n",
        "    while(True):\n",
        "      if(self.hash[curr] == val):\n",
        "        print(\"Found\")\n",
        "        return curr\n",
        "      else:\n",
        "        curr = (curr + 1)%self.size\n",
        "        if(curr == ind):\n",
        "          print(\"Not found\")\n",
        "          return False\n",
        "\n",
        "obj = HashTable(10)\n",
        "obj.addItem(2)\n",
        "obj.addItem(12)\n",
        "obj.addItem(4)\n",
        "obj.addItem(44)\n",
        "obj.addItem(5)\n",
        "obj.addItem(15)\n",
        "obj.addItem(6)\n",
        "obj.addItem(9)\n",
        "obj.printHashTable()\n",
        "obj.findValue(10)\n",
        "obj.findValue(15)\n",
        "obj.removeItem(44)\n",
        "obj.removeItem(65)\n",
        "obj.printHashTable()"
      ]
    },
    {
      "cell_type": "markdown",
      "source": [
        "## ***Hash table implementation using quadratic probing***"
      ],
      "metadata": {
        "id": "QZv3jeeF4oI9"
      }
    },
    {
      "cell_type": "code",
      "source": [
        "class HashTable:\n",
        "  def __init__(self, size):\n",
        "    self.size = size\n",
        "    self.hash = [None]*size\n",
        "\n",
        "  # append the new item in the hash table\n",
        "  def addItem(self, num):\n",
        "    ind = int(num % self.size)\n",
        "    if(self.hash[ind] == None):\n",
        "      self.hash[ind] = num\n",
        "    else:\n",
        "        for i in range(self.size):\n",
        "          ind = (ind + i**2) % self.size\n",
        "          if(self.hash[ind] == None):\n",
        "            self.hash[ind] = num\n",
        "            break\n",
        "\n",
        "  # Remove item from hash table\n",
        "  def removeItem(self, val):\n",
        "    ind = self.findValue(val)\n",
        "    if(ind is False):\n",
        "      print(\"{} not found in hash table\".format(val))\n",
        "    else:\n",
        "      self.hash[ind] = None\n",
        "      print(\"{} removed from hash table\".format(val))\n",
        "     \n",
        "  # print hash table\n",
        "  def printHashTable(self):\n",
        "    print(self.hash)\n",
        "\n",
        "  # find the item in hash table\n",
        "  def findValue(self, val):\n",
        "    ind = val % self.size\n",
        "    curr = ind\n",
        "    if(self.hash[curr] == val):\n",
        "      print(\"Found\")\n",
        "      return curr\n",
        "    else:\n",
        "      for i in range(self.size):\n",
        "        curr = (curr + i**2) % self.size\n",
        "        if(self.hash[curr] == val):\n",
        "          print(\"{} Found\".format(val))\n",
        "          return curr\n",
        "      print(\"Not Found\")\n",
        "      return False\n",
        "        # elif(curr == ind):\n",
        "        #   print(\"Not found\")\n",
        "        #   return False\n",
        "\n",
        "obj = HashTable(10)\n",
        "obj.addItem(2)\n",
        "obj.addItem(12)\n",
        "obj.addItem(4)\n",
        "obj.addItem(44)\n",
        "obj.addItem(45)\n",
        "obj.addItem(5)\n",
        "obj.addItem(15)\n",
        "obj.addItem(6)\n",
        "obj.addItem(9)\n",
        "obj.printHashTable()\n",
        "obj.findValue(10)\n",
        "obj.findValue(15)\n",
        "obj.removeItem(44)\n",
        "obj.removeItem(65)\n",
        "obj.printHashTable()"
      ],
      "metadata": {
        "colab": {
          "base_uri": "https://localhost:8080/"
        },
        "id": "MI62LfI64n2c",
        "outputId": "dbf3a2f0-688d-4e38-ba4a-0055b94ceb65"
      },
      "execution_count": 9,
      "outputs": [
        {
          "output_type": "stream",
          "name": "stdout",
          "text": [
            "[5, None, 2, 12, 4, 44, 45, 6, None, 15]\n",
            "Not Found\n",
            "15 Found here\n",
            "44 Found here\n",
            "44 removed from hash table\n",
            "Not Found\n",
            "65 not found in hash table\n",
            "[5, None, 2, 12, 4, None, 45, 6, None, 15]\n"
          ]
        }
      ]
    }
  ]
}