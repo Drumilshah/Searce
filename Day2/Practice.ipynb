{
  "nbformat": 4,
  "nbformat_minor": 0,
  "metadata": {
    "colab": {
      "name": "Practice_day02.ipynb",
      "provenance": [],
      "collapsed_sections": []
    },
    "kernelspec": {
      "name": "python3",
      "display_name": "Python 3"
    },
    "language_info": {
      "name": "python"
    }
  },
  "cells": [
    {
      "cell_type": "markdown",
      "source": [
        "## ***Linked List***"
      ],
      "metadata": {
        "id": "rZHIHM1Bu9ME"
      }
    },
    {
      "cell_type": "markdown",
      "source": [
        "### Singly Linked List"
      ],
      "metadata": {
        "id": "HY_tKhPHwTjI"
      }
    },
    {
      "cell_type": "code",
      "execution_count": null,
      "metadata": {
        "colab": {
          "base_uri": "https://localhost:8080/"
        },
        "id": "jhGhX0Sau8dn",
        "outputId": "0c87bf4c-fccf-4c68-aefc-d2d1333d8a88"
      },
      "outputs": [
        {
          "output_type": "stream",
          "name": "stdout",
          "text": [
            "Linked List:  5 3 7 9 10 \n",
            "Linked List:  7 9 \n"
          ]
        }
      ],
      "source": [
        "class Node:\n",
        "  def __init__(self,data):\n",
        "    self.data = data\n",
        "    self.next = None\n",
        "\n",
        "class LinkedList:\n",
        "  def __init__(self):\n",
        "    self.head = None\n",
        "  \n",
        "  # insert node at the beginning\n",
        "  def insertAtFirst(self, data):\n",
        "    newNode = Node(data)\n",
        "    newNode.next = self.head\n",
        "    self.head = newNode\n",
        "\n",
        "  # insert node at the end\n",
        "  def insertAtLast(self, data):\n",
        "    temp = self.head\n",
        "    while(temp.next):\n",
        "      temp = temp.next\n",
        "    temp.next = Node(data)\n",
        "\n",
        "  # insert node after specific node\n",
        "  def insertAfter(self, nodeValue, data):\n",
        "    temp = self.head\n",
        "    newNode = Node(data)\n",
        "    while(temp):\n",
        "      if(temp.data == nodeValue):\n",
        "        newNode.next = temp.next\n",
        "        temp.next = newNode\n",
        "        break\n",
        "      temp = temp.next\n",
        "\n",
        "  # delete the first node\n",
        "  def deleteFirst(self):\n",
        "    self.head = self.head.next\n",
        "\n",
        "  # delete the last node\n",
        "  def deleteLast(self):\n",
        "    temp = self.head\n",
        "    while(temp.next.next):\n",
        "      temp = temp.next\n",
        "    temp.next = None\n",
        "\n",
        "  # delete specific valued node\n",
        "  def deleteNode(self, data):\n",
        "    if(self.head.data == data):\n",
        "      self.head = self.head.next\n",
        "    else:\n",
        "      temp = self.head\n",
        "      while(temp.next):\n",
        "        if(temp.next.data == data):\n",
        "          temp.next = temp.next.next\n",
        "        temp = temp.next\n",
        "\n",
        "  # traverse the linked list\n",
        "  def traverse(self):\n",
        "    temp = self.head\n",
        "    print(\"Linked List: \", end = \" \")\n",
        "    while(temp):\n",
        "      print(temp.data, end = \" \")\n",
        "      temp = temp.next\n",
        "    print(\"\")\n",
        "\n",
        "obj = LinkedList()\n",
        "obj.insertAtFirst(5)\n",
        "obj.insertAfter(5,3)\n",
        "obj.insertAfter(3,7)\n",
        "obj.insertAtLast(9)\n",
        "obj.insertAtLast(10)\n",
        "obj.traverse()\n",
        "obj.deleteFirst()\n",
        "obj.deleteLast()\n",
        "obj.deleteNode(3)\n",
        "obj.traverse()"
      ]
    },
    {
      "cell_type": "markdown",
      "source": [
        "### **Array based Queue**\n",
        "\n",
        "Creating Queue using array"
      ],
      "metadata": {
        "id": "6Z2oh1m97mYZ"
      }
    },
    {
      "cell_type": "code",
      "source": [
        "class Queue:\n",
        "  def __init__(self, capacity): # initialize queue with it's capacity\n",
        "    self.queue = [None]*capacity\n",
        "    self.capacity = capacity\n",
        "    self.front = 0 \n",
        "    self.rear = 0\n",
        "    self.size = 0 # number of elements in the queue\n",
        "\n",
        "  def isFull(self):\n",
        "    return(self.size == self.capacity) # number of elements is become same as capacity of queue \n",
        "    \n",
        "  def isEmpty(self):\n",
        "    return (self.size == 0) # no elements in the queue\n",
        "\n",
        "  # add element in the queue\n",
        "  def enQueue(self, data):\n",
        "    if(not self.isFull()):\n",
        "      self.queue[self.rear] = data\n",
        "      self.rear = (self.rear + 1)%self.capacity\n",
        "      self.size += 1\n",
        "    else:\n",
        "      print(\"Queue is full\")\n",
        "  \n",
        "  # remove the element from the queue\n",
        "  def deQueue(self):\n",
        "    if(not self.isEmpty()):\n",
        "      ele = self.queue[self.front]\n",
        "      self.queue[self.front] = None\n",
        "      self.front = (self.front + 1)%self.capacity\n",
        "      self.size -= 1\n",
        "      return ele\n",
        "    else:\n",
        "      print(\"Queue is empty\")\n",
        "\n",
        "  def getFront(self):\n",
        "    return self.queue[self.front]\n",
        "\n",
        "  def traversal(self):\n",
        "    print(\"Queue:\", end = \" \")\n",
        "    for i in range(len(self.queue)):\n",
        "        print(self.queue[i], end = \" \")\n",
        "    print()\n",
        "\n",
        "obj = Queue(10)\n",
        "obj.enQueue(4)\n",
        "obj.enQueue(5)\n",
        "obj.enQueue(6)\n",
        "obj.enQueue(7)\n",
        "obj.enQueue(8)\n",
        "obj.enQueue(9)\n",
        "obj.enQueue(10)\n",
        "obj.traversal()\n",
        "print(\"dequeue element: \", obj.deQueue())\n",
        "print(\"dequeue element: \", obj.deQueue())\n",
        "print(\"dequeue element: \", obj.deQueue())\n",
        "print(\"dequeue element: \", obj.deQueue())\n",
        "print(\"Front element of queue: \", obj.getFront())\n",
        "obj.enQueue(4)\n",
        "obj.enQueue(5)\n",
        "obj.enQueue(6)\n",
        "obj.enQueue(7)\n",
        "obj.traversal()\n",
        "obj.enQueue(5)\n",
        "obj.enQueue(6)\n",
        "obj.enQueue(7)\n",
        "obj.enQueue(5)\n",
        "obj.enQueue(6)\n",
        "obj.enQueue(7)\n",
        "obj.traversal()\n",
        "obj.deQueue()\n",
        "obj.deQueue()\n",
        "obj.traversal()\n",
        "obj.getFront()"
      ],
      "metadata": {
        "colab": {
          "base_uri": "https://localhost:8080/"
        },
        "id": "-KxGR2Xt7pv3",
        "outputId": "3fb05b8b-e9e5-42b8-ff5d-7d80951cba6d"
      },
      "execution_count": null,
      "outputs": [
        {
          "output_type": "stream",
          "name": "stdout",
          "text": [
            "Queue: 4 5 6 7 8 9 10 None None None \n",
            "dequeue element:  4\n",
            "dequeue element:  5\n",
            "dequeue element:  6\n",
            "dequeue element:  7\n",
            "Front element of queue:  8\n",
            "Queue: 7 None None None 8 9 10 4 5 6 \n",
            "Queue is full\n",
            "Queue is full\n",
            "Queue is full\n",
            "Queue: 7 5 6 7 8 9 10 4 5 6 \n",
            "Queue: 7 5 6 7 None None 10 4 5 6 \n"
          ]
        },
        {
          "output_type": "execute_result",
          "data": {
            "text/plain": [
              "10"
            ]
          },
          "metadata": {},
          "execution_count": 2
        }
      ]
    },
    {
      "cell_type": "markdown",
      "source": [
        "### **Double Ended Queue using doubly Linked list**"
      ],
      "metadata": {
        "id": "IkVMSRvrd5Jj"
      }
    },
    {
      "cell_type": "code",
      "source": [
        "class Node:\n",
        "  def __init__(self, data):\n",
        "    self.data = data\n",
        "    self.next = None\n",
        "    self.pre = None\n",
        "\n",
        "class doublyLinkedList:\n",
        "  def __init__(self):\n",
        "    self.header = None\n",
        "    self.trailer = None\n",
        "\n",
        "  # Insert node at last of linked list\n",
        "  def insertLast(self, data):\n",
        "    newNode = Node(data)\n",
        "    if(self.header):\n",
        "      self.trailer.next = newNode\n",
        "      newNode.pre = self.trailer\n",
        "      self.trailer = newNode\n",
        "    else:\n",
        "      self.header = self.trailer = newNode \n",
        "\n",
        "  # Remove element from the header end(start)\n",
        "  def removeFirst(self):\n",
        "    if(self.header.next):\n",
        "      self.header = self.header.next\n",
        "      self.header.pre = None\n",
        "    else:\n",
        "      self.header = None\n",
        "\n",
        "  # Remove element from the trailer end(ending)\n",
        "  def removeLast(self):\n",
        "    if(self.trailer.pre):\n",
        "      self.trailer = self.trailer.pre\n",
        "      self.trailer.next = None\n",
        "    else:\n",
        "      self.trailer = None\n",
        "\n",
        "  # Get the front element\n",
        "  def getFront(self):\n",
        "    if(self.header):\n",
        "      return self.header.data\n",
        "    else:\n",
        "      print(\"Queue is empty\")\n",
        "  \n",
        "  # Get the last element\n",
        "  def getTop(self):\n",
        "    if(self.trailer):\n",
        "      return self.trailer.data\n",
        "    else:\n",
        "      print(\"Queue is empty\")\n",
        "\n",
        "  # Traverse the queue\n",
        "  def traversal(self):\n",
        "    temp = self.header\n",
        "    print(\"Queue:\", end = \" \")\n",
        "    while(temp):\n",
        "      print(temp.data, end = \" \")\n",
        "      temp = temp.next\n",
        "    print()\n",
        "\n",
        "obj = doublyLinkedList()\n",
        "obj.insertLast(12)\n",
        "obj.insertLast(13)\n",
        "obj.insertLast(14)\n",
        "obj.removeLast()\n",
        "obj.insertLast(15)\n",
        "obj.insertLast(16)\n",
        "obj.traversal()\n",
        "print(\"Last element in the queue: \", obj.getTop())\n",
        "print(\"First element in the queue: \", obj.getFront())\n",
        "obj.removeFirst()\n",
        "obj.insertLast(17)\n",
        "obj.traversal()"
      ],
      "metadata": {
        "colab": {
          "base_uri": "https://localhost:8080/"
        },
        "id": "pCjO2ZggHgil",
        "outputId": "74dd320d-eb8d-4031-a47e-06065ca2bba3"
      },
      "execution_count": null,
      "outputs": [
        {
          "output_type": "stream",
          "name": "stdout",
          "text": [
            "Queue: 12 13 15 16 \n",
            "Last element in the queue:  16\n",
            "First element in the queue:  12\n",
            "Queue: 13 15 16 17 \n"
          ]
        }
      ]
    },
    {
      "cell_type": "markdown",
      "source": [
        "## ***Linked list operations***"
      ],
      "metadata": {
        "id": "-21_Fz4wR1pA"
      }
    },
    {
      "cell_type": "code",
      "source": [
        "class Node:\n",
        "  def __init__(self,data):\n",
        "    self.data = data\n",
        "    self.next = None\n",
        "\n",
        "class LinkedList:\n",
        "  def __init__(self):\n",
        "    self.head = None\n",
        "  \n",
        "  # insert node in the linked list\n",
        "  def insertNode(self, data):\n",
        "    if(self.head):\n",
        "      temp = self.head\n",
        "      while(temp.next):\n",
        "        temp = temp.next\n",
        "      temp.next = Node(data)\n",
        "    else:\n",
        "      self.head = Node(data)\n",
        "\n",
        "  # Find specific valued node in linked list\n",
        "  def findElement(self, n):\n",
        "    temp = self.head\n",
        "    curr = 1\n",
        "    while(temp):\n",
        "      temp = temp.next\n",
        "      curr += 1\n",
        "      if(curr == n):\n",
        "        print(\"The {}th element is: {}\".format(n, temp.data))\n",
        "        break\n",
        "      \n",
        "  # Find the middle element of linked list\n",
        "  def middleNode(self):\n",
        "    fast = self.head\n",
        "    slow = self.head\n",
        "    while(fast and fast.next):\n",
        "      fast = fast.next.next\n",
        "      slow = slow.next\n",
        "    print(\"Middle Element: \", slow.data)\n",
        "\n",
        "  # count the frequency of value in linked list\n",
        "  def countOccurance(self, n):\n",
        "    temp = self.head\n",
        "    count = 0\n",
        "    while(temp):\n",
        "      if(temp.data == n):\n",
        "        count += 1\n",
        "      temp = temp.next\n",
        "    print(\"Frequency of {} value is {}\".format(n, count))\n",
        "\n",
        "  # Get the length of linked list\n",
        "  def getLength(self):\n",
        "    temp = self.head\n",
        "    length = 0\n",
        "    while(temp):\n",
        "      length += 1\n",
        "      temp = temp.next\n",
        "    print(\"Length of linked list: \", length)\n",
        "\n",
        "\n",
        "obj = LinkedList()\n",
        "\n",
        "obj.insertNode(5)\n",
        "obj.insertNode(6)\n",
        "obj.insertNode(7)\n",
        "obj.insertNode(8)\n",
        "obj.insertNode(9)\n",
        "obj.insertNode(10)\n",
        "obj.insertNode(11)\n",
        "obj.insertNode(7)\n",
        "obj.insertNode(8)\n",
        "\n",
        "obj.findElement(2)\n",
        "obj.middleNode()\n",
        "obj.countOccurance(7)\n",
        "obj.getLength()"
      ],
      "metadata": {
        "colab": {
          "base_uri": "https://localhost:8080/"
        },
        "id": "fQkbRJa1Q_pJ",
        "outputId": "f49f629e-c606-48ad-f711-288f9e7ea73b"
      },
      "execution_count": 12,
      "outputs": [
        {
          "output_type": "stream",
          "name": "stdout",
          "text": [
            "The 2th element is: 6\n",
            "Middle Element:  9\n",
            "Frequency of 7 value is 2\n",
            "Length of linked list:  9\n"
          ]
        }
      ]
    }
  ]
}