{
  "nbformat": 4,
  "nbformat_minor": 0,
  "metadata": {
    "colab": {
      "name": "Assignment_day02.ipynb",
      "provenance": [],
      "collapsed_sections": []
    },
    "kernelspec": {
      "name": "python3",
      "display_name": "Python 3"
    },
    "language_info": {
      "name": "python"
    }
  },
  "cells": [
    {
      "cell_type": "markdown",
      "source": [
        "## **Q.1**"
      ],
      "metadata": {
        "id": "RfKoVs85Zed_"
      }
    },
    {
      "cell_type": "code",
      "execution_count": null,
      "metadata": {
        "colab": {
          "base_uri": "https://localhost:8080/"
        },
        "id": "2D7mUX8cZZ_8",
        "outputId": "ea1789c6-1646-4b50-aa97-36e52ca44ce2"
      },
      "outputs": [
        {
          "output_type": "stream",
          "name": "stdout",
          "text": [
            "10\n",
            "1 97\n",
            "2\n",
            "1 20\n",
            "2\n",
            "1 26\n",
            "1 20\n",
            "2\n",
            "3\n",
            "1 91\n",
            "3\n",
            "Output: \n",
            "26\n",
            "91\n"
          ]
        }
      ],
      "source": [
        "n = int(input())\n",
        "l = []\n",
        "q = []\n",
        "\n",
        "for i in range(n):\n",
        "  q.append(input())\n",
        "print(\"Output: \")\n",
        "for op in q:\n",
        "  if(op[0] == '1'):\n",
        "    number = int(op[2:])\n",
        "    l.append(number)\n",
        "  elif(op[0] == '2'):\n",
        "    l.pop()\n",
        "  elif(op[0] == '3'):\n",
        "    maxNumber = max(l)\n",
        "    print(maxNumber)"
      ]
    }
  ]
}